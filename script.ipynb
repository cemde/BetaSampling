{
 "cells": [
  {
   "cell_type": "markdown",
   "metadata": {},
   "source": [
    "# Sampling from Beta\n",
    "\n",
    "https://en.wikipedia.org/wiki/Beta_distribution\n",
    "https://mathworld.wolfram.com/BetaFunction.html\n",
    "https://bookdown.org/rdpeng/advstatcomp/rejection-sampling.html Their `c`is my `M`\n",
    "\n",
    "a und b muessen > 1 sein.\n",
    "sup f/g is finite iff a > 1 and b > 1 \n",
    "\n",
    "proposal distribution g: uniform\n",
    "target distribution f: beta\n",
    "\n",
    "sup = max but also defined on open sets\n"
   ]
  },
  {
   "cell_type": "code",
   "execution_count": 31,
   "metadata": {},
   "outputs": [],
   "source": [
    "import numpy as np\n",
    "from scipy.special import gamma\n",
    "import seaborn as sns\n",
    "import matplotlib.pyplot as plt"
   ]
  },
  {
   "cell_type": "code",
   "execution_count": 32,
   "metadata": {},
   "outputs": [],
   "source": [
    "def uniform(x): # proposal distribution\n",
    "    return 1\n",
    "\n",
    "def Beta(a,b): # beta function to normalize beta distribution\n",
    "    return gamma(a)*gamma(b)/gamma(a+b) # visualbasic sollte die gamma function haben\n",
    "\n",
    "def beta(x, a, b): # beta distribution density function, pdf\n",
    "    kernel = x**(a-1)*(1-x)**(b-1)\n",
    "    normalizer = Beta(a,b)\n",
    "    return kernel/normalizer\n",
    "\n",
    "# argmax of beta distribution pdf\n",
    "def beta_mode(a,b):\n",
    "    if a>1 and b>1:\n",
    "        return (a-1)/(a+b-2)\n",
    "    elif a>1:\n",
    "        return 1\n",
    "    elif b>1:\n",
    "        return 0\n",
    "    else:\n",
    "        raise ValueError(\"Mode not defined on uniform distribution.\")\n",
    "\n",
    "# pdf: probability density function\n",
    "# get maximum of beta distribution\n",
    "def max_beta(a,b):\n",
    "    return beta(beta_mode(a,b),a,b)"
   ]
  },
  {
   "cell_type": "code",
   "execution_count": 37,
   "metadata": {},
   "outputs": [
    {
     "name": "stdout",
     "output_type": "stream",
     "text": [
      "M=99.27103793611083\n",
      "Acceptance Ratio: 0.0101\n"
     ]
    }
   ],
   "source": [
    "NUM_SAMPLES = 100000\n",
    "A = 1.001\n",
    "B = 100\n",
    "M = max_beta(A,B)\n",
    "print(f\"{M=}\")\n",
    "samples = []\n",
    "n_generated = 0\n",
    "\n",
    "while len(samples) < NUM_SAMPLES:\n",
    "    n_generated += 1\n",
    "    x = np.random.uniform(0,1) # sample from proposal density g\n",
    "    if np.random.uniform(0,1) < 1/M*beta(x, A,B)/uniform(x):\n",
    "        samples.append(x)\n",
    "# expected acceptance ratio ist 1/M\n",
    "print(f\"Acceptance Ratio: {len(samples)/n_generated:.4f}\")"
   ]
  },
  {
   "cell_type": "code",
   "execution_count": 39,
   "metadata": {},
   "outputs": [
    {
     "name": "stderr",
     "output_type": "stream",
     "text": [
      "/Users/cornelius/anaconda3/envs/general/lib/python3.10/site-packages/seaborn/distributions.py:2619: FutureWarning: `distplot` is a deprecated function and will be removed in a future version. Please adapt your code to use either `displot` (a figure-level function with similar flexibility) or `kdeplot` (an axes-level function for kernel density plots).\n",
      "  warnings.warn(msg, FutureWarning)\n"
     ]
    },
    {
     "data": {
      "image/png": "[encoded data removed]",
      "text/plain": [
       "<Figure size 640x480 with 1 Axes>"
      ]
     },
     "metadata": {},
     "output_type": "display_data"
    }
   ],
   "source": [
    "def plot_beta(a,b,sample):\n",
    "    sns.distplot(sample, hist=False, kde=True,\n",
    "                 kde_kws = {'shade': True, 'linewidth': 3},\n",
    "                 label = r'$\\alpha$ = {}, $\\beta$ = {}'.format(a,b))\n",
    "    plt.xlim(0, 1)\n",
    "    sns.lineplot(x=np.linspace(0,1,500), y=beta(np.linspace(0,1,500),a,b), label=\"Beta PDF\")\n",
    "    plt.show()\n",
    "\n",
    "plot_beta(A,B,samples)"
   ]
  }
 ],
 "metadata": {
  "kernelspec": {
   "display_name": "Python 3.10.4 ('general')",
   "language": "python",
   "name": "python3"
  },
  "language_info": {
   "codemirror_mode": {
    "name": "ipython",
    "version": 3
   },
   "file_extension": ".py",
   "mimetype": "text/x-python",
   "name": "python",
   "nbconvert_exporter": "python",
   "pygments_lexer": "ipython3",
   "version": "3.10.4"
  },
  "orig_nbformat": 4,
  "vscode": {
   "interpreter": {
    "hash": "eccf6f2ffd5931e21c1ee1b45811e833996151028e3cb3c1e841ba6061dde872"
   }
  }
 },
 "nbformat": 4,
 "nbformat_minor": 2
}
